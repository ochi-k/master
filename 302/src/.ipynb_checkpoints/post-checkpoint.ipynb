{
 "cells": [
  {
   "cell_type": "markdown",
   "metadata": {
    "collapsed": true,
    "pycharm": {
     "name": "#%% md\n"
    }
   },
   "source": [
    "### 後処理"
   ]
  },
  {
   "cell_type": "code",
   "execution_count": null,
   "metadata": {
    "pycharm": {
     "name": "#%%\n"
    }
   },
   "outputs": [],
   "source": [
    "import os\n",
    "\n",
    "import numpy as np\n",
    "from matplotlib import pyplot as plt"
   ]
  },
  {
   "cell_type": "markdown",
   "metadata": {},
   "source": [
    "- パラメータの設定"
   ]
  },
  {
   "cell_type": "code",
   "execution_count": null,
   "metadata": {
    "pycharm": {
     "name": "#%%\n"
    }
   },
   "outputs": [],
   "source": [
    "super_dir = \"data/\"\n",
    "\n",
    "U = [175, 200, 225]\n",
    "\n",
    "start = 0\n",
    "end = 1000"
   ]
  },
  {
   "cell_type": "markdown",
   "metadata": {},
   "source": [
    "- 時間平均"
   ]
  },
  {
   "cell_type": "code",
   "execution_count": null,
   "metadata": {
    "pycharm": {
     "name": "#%%\n"
    }
   },
   "outputs": [],
   "source": [
    "from modules import average"
   ]
  },
  {
   "cell_type": "code",
   "execution_count": null,
   "metadata": {
    "pycharm": {
     "name": "#%%\n"
    }
   },
   "outputs": [],
   "source": [
    "for u in U:\n",
    "    piv_dir = super_dir + f\"{u}_302/piv/\"\n",
    "    ave_dir = super_dir + f\"{u}_302/ave/\"\n",
    "    average.time_average(in_dir=piv_dir, out_dir=ave_dir, start=start, end=end)"
   ]
  },
  {
   "cell_type": "markdown",
   "metadata": {
    "pycharm": {
     "name": "#%% md\n"
    }
   },
   "source": [
    "- 校正"
   ]
  },
  {
   "cell_type": "code",
   "execution_count": null,
   "metadata": {
    "pycharm": {
     "name": "#%%\n"
    }
   },
   "outputs": [],
   "source": [
    "from modules import calibration as cali\n"
   ]
  },
  {
   "cell_type": "code",
   "execution_count": null,
   "metadata": {
    "pycharm": {
     "name": "#%%\n"
    }
   },
   "outputs": [],
   "source": [
    "for u in U:\n",
    "    ave_dir = super_dir + f\"{u}_302/ave/\"\n",
    "    data = np.loadtxt(ave_dir + \"ave.csv\", delimiter=\",\")\n",
    "    data = cali.space_calibration(data, length=57, p0=(823, 293), p1=(816, 575))\n",
    "    data = cali.time_calibration(data, fps=u)\n",
    "    np.savetxt(ave_dir + 'ave.csv', data, delimiter=',')"
   ]
  },
  {
   "cell_type": "markdown",
   "metadata": {
    "pycharm": {
     "name": "#%% md\n"
    }
   },
   "source": [
    "- グラフ"
   ]
  },
  {
   "cell_type": "code",
   "execution_count": null,
   "metadata": {
    "pycharm": {
     "name": "#%%\n"
    }
   },
   "outputs": [],
   "source": [
    "def gragh(data, speed=0, mode=None, out_dir=\"/\"):\n",
    "    fig, ax = plt.subplots(figsize=(12, 10))\n",
    "    plt.xlabel('$\\it{x}$ [mm]', fontsize=28)\n",
    "    plt.ylabel('$\\it{y}$ [mm]', fontsize=28)\n",
    "    plt.xticks(fontsize=24)\n",
    "    plt.yticks(fontsize=24)\n",
    "    # plt.xlim(0, 215)\n",
    "    # plt.ylim(122, 0)\n",
    "\n",
    "    J, I = 36, 36\n",
    "    x = data[:, 0].reshape((J, I))\n",
    "    y = data[:, 1].reshape((J, I))\n",
    "    u = data[:, 2].reshape((J, I))\n",
    "    v = - data[:, 3].reshape((J, I))\n",
    "    o = np.sqrt(u ** 2 + v ** 2)\n",
    "\n",
    "    # velocity normalize\n",
    "#     u /= o\n",
    "#     v /= o\n",
    "    o /= speed\n",
    "\n",
    "    plt.pcolormesh(x, y, o, cmap='jet', alpha=1)\n",
    "    pp = plt.colorbar()\n",
    "    for t in pp.ax.get_yticklabels():\n",
    "        t.set_fontsize(24)\n",
    "    pp.set_label('\\n|'r'$\\mathbf{u}$| / $\\it{U}$ [-]', fontsize=28)\n",
    "#     plt.clim(0, 1.25)\n",
    "\n",
    "    x = x[1::2, 1::2]\n",
    "    y = y[1::2, 1::2]\n",
    "    u = u[1::2, 1::2]\n",
    "    v = v[1::2, 1::2]\n",
    "\n",
    "    plt.quiver(x, y, u, v, scale_units='xy', scale=0.25)\n",
    "\n",
    "    if mode == \"show\":\n",
    "        plt.show()\n",
    "\n",
    "    elif mode == \"save\":\n",
    "        fig.savefig(out_dir + f\"ave_gragh_{speed}.png\", dpi=300)\n",
    "\n",
    "    return"
   ]
  },
  {
   "cell_type": "code",
   "execution_count": null,
   "metadata": {
    "pycharm": {
     "name": "#%%\n"
    }
   },
   "outputs": [],
   "source": [
    "for u in U:\n",
    "    ave_dir = super_dir + f\"{u}_302/ave/\"\n",
    "    data = np.loadtxt(ave_dir + \"ave.csv\", delimiter=\",\")\n",
    "    gragh(data, speed=u, mode=\"show\")\n"
   ]
  },
  {
   "cell_type": "code",
   "execution_count": null,
   "metadata": {
    "pycharm": {
     "name": "#%%\n"
    }
   },
   "outputs": [],
   "source": [
    "print(\"post fin.\")\n"
   ]
  }
 ],
 "metadata": {
  "kernelspec": {
   "display_name": "Python 3 (ipykernel)",
   "language": "python",
   "name": "python3"
  },
  "language_info": {
   "codemirror_mode": {
    "name": "ipython",
    "version": 3
   },
   "file_extension": ".py",
   "mimetype": "text/x-python",
   "name": "python",
   "nbconvert_exporter": "python",
   "pygments_lexer": "ipython3",
   "version": "3.8.10"
  }
 },
 "nbformat": 4,
 "nbformat_minor": 1
}
