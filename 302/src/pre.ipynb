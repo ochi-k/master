{
 "cells": [
  {
   "cell_type": "markdown",
   "metadata": {
    "collapsed": true,
    "pycharm": {
     "name": "#%% md\n"
    }
   },
   "source": [
    "### 前処理"
   ]
  },
  {
   "cell_type": "code",
   "source": [
    "import os\n",
    "\n",
    "import cv2\n",
    "import numpy as np"
   ],
   "metadata": {
    "collapsed": false,
    "pycharm": {
     "name": "#%%\n"
    }
   },
   "execution_count": null,
   "outputs": []
  },
  {
   "cell_type": "markdown",
   "source": [
    "- パラメータの設定"
   ],
   "metadata": {
    "collapsed": false
   }
  },
  {
   "cell_type": "code",
   "execution_count": null,
   "outputs": [],
   "source": [
    "super_path = \"/media/lfc/HDD1/M1/\"\n",
    "\n",
    "U = [175, 200, 225]\n",
    "Q = 302\n",
    "file_num = 1002"
   ],
   "metadata": {
    "collapsed": false,
    "pycharm": {
     "name": "#%%\n"
    }
   }
  },
  {
   "cell_type": "markdown",
   "source": [
    "- リサイズ, 背景処理"
   ],
   "metadata": {
    "collapsed": false,
    "pycharm": {
     "name": "#%% md\n"
    }
   }
  },
  {
   "cell_type": "code",
   "execution_count": null,
   "outputs": [],
   "source": [
    "p0 = [200, 0]\n",
    "p1 = [1080, 880]\n",
    "\n",
    "for u in U:\n",
    "    dir_path_in = super_path + f\"original/2021_06_07/1/u_{u}_q_{Q}_fps_{u}_ss_600/\"\n",
    "    dir_path_resize = super_path + f\"result/2021_06_07/302/u_{u}_q_{Q}_fps_{u}_ss_600/resize/\"\n",
    "    os.makedirs(dir_path_resize, exist_ok=True)\n",
    "    dir_path_bg = super_path + f\"result/2021_06_07/302/u_{u}_q_{Q}_fps_{u}_ss_600/bg/\"\n",
    "    os.makedirs(dir_path_bg, exist_ok=True)\n",
    "\n",
    "    bg_img = None\n",
    "\n",
    "    for i in range(0, file_num):\n",
    "        file_path = dir_path_in + f\"_{i:08}.bmp\"\n",
    "        img = cv2.imread(file_path, 0)\n",
    "        re_img = img[p0[1]:p1[1], p0[0]:p1[0]]\n",
    "        cv2.imwrite(dir_path_resize + f\"_{i:08}.bmp\", re_img)\n",
    "\n",
    "        if i == 0:\n",
    "            bg_img = re_img\n",
    "        else:\n",
    "            bg_img = np.minimum(bg_img, re_img)\n",
    "\n",
    "    cv2.imwrite(dir_path_bg + f\"bg.bmp\", bg_img)"
   ],
   "metadata": {
    "collapsed": false,
    "pycharm": {
     "name": "#%%\n"
    }
   }
  },
  {
   "cell_type": "markdown",
   "source": [
    "- 背景差分"
   ],
   "metadata": {
    "collapsed": false,
    "pycharm": {
     "name": "#%% md\n"
    }
   }
  },
  {
   "cell_type": "code",
   "execution_count": null,
   "outputs": [],
   "source": [
    "for u in U:\n",
    "    dir_path_resize = super_path + f\"result/2021_06_07/302/u_{u}_q_{Q}_fps_{u}_ss_600/resize/\"\n",
    "    dir_path_bg = super_path + f\"result/2021_06_07/302/u_{u}_q_{Q}_fps_{u}_ss_600/bg/\"\n",
    "    dir_path_sub = super_path + f\"result/2021_06_07/302/u_{u}_q_{Q}_fps_{u}_ss_600/sub/\"\n",
    "    os.makedirs(dir_path_sub, exist_ok=True)\n",
    "\n",
    "    bg_img = cv2.imread(dir_path_bg + f\"bg.bmp\", 0)\n",
    "\n",
    "    for i in range(0, file_num):\n",
    "        file_path = dir_path_resize + f\"_{i:08}.bmp\"\n",
    "        img = cv2.imread(file_path, 0)\n",
    "        sub_img = img - bg_img\n",
    "        cv2.imwrite(dir_path_sub + f\"_{i:08}.bmp\", sub_img)"
   ],
   "metadata": {
    "collapsed": false,
    "pycharm": {
     "name": "#%%\n"
    }
   }
  },
  {
   "cell_type": "markdown",
   "source": [
    "- 大津の方法を用いた5値化"
   ],
   "metadata": {
    "collapsed": false,
    "pycharm": {
     "name": "#%% md\n"
    }
   }
  },
  {
   "cell_type": "code",
   "execution_count": null,
   "outputs": [],
   "source": [
    "from modules import otsu\n"
   ],
   "metadata": {
    "collapsed": false,
    "pycharm": {
     "name": "#%%\n"
    }
   }
  },
  {
   "cell_type": "code",
   "execution_count": null,
   "outputs": [],
   "source": [
    "th = [14, 41, 80, 139]\n",
    "\n",
    "for u in U:\n",
    "    dir_path_sub = super_path + f\"result/2021_06_07/302/u_{u}_q_{Q}_fps_{u}_ss_600/sub/\"\n",
    "    dir_path_otsu = super_path + f\"result/2021_06_07/302/u_{u}_q_{Q}_fps_{u}_ss_600/otsu/\"\n",
    "    os.makedirs(dir_path_otsu, exist_ok=True)\n",
    "\n",
    "    for i in range(0, file_num):\n",
    "        file_path = dir_path_sub + f\"_{i:08}.bmp\"\n",
    "        img = cv2.imread(file_path, 0)\n",
    "        otsu_img = otsu.emphasize(img=img, c=3, th=th)\n",
    "        cv2.imwrite(dir_path_otsu + f\"_{i:08}.bmp\", otsu_img)"
   ],
   "metadata": {
    "collapsed": false,
    "pycharm": {
     "name": "#%%\n"
    }
   }
  },
  {
   "cell_type": "code",
   "execution_count": null,
   "outputs": [],
   "source": [
    "print(\"pre fin. \")\n"
   ],
   "metadata": {
    "collapsed": false,
    "pycharm": {
     "name": "#%%\n"
    }
   }
  }
 ],
 "metadata": {
  "kernelspec": {
   "display_name": "Python 3",
   "language": "python",
   "name": "python3"
  },
  "language_info": {
   "codemirror_mode": {
    "name": "ipython",
    "version": 2
   },
   "file_extension": ".py",
   "mimetype": "text/x-python",
   "name": "python",
   "nbconvert_exporter": "python",
   "pygments_lexer": "ipython2",
   "version": "2.7.6"
  }
 },
 "nbformat": 4,
 "nbformat_minor": 0
}